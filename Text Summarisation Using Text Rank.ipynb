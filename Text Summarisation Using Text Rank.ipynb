{
 "cells": [
  {
   "cell_type": "code",
   "execution_count": 1,
   "metadata": {},
   "outputs": [],
   "source": [
    "from nltk.corpus import stopwords\n",
    "from nltk import word_tokenize\n",
    "from nltk import SnowballStemmer, WordNetLemmatizer \n",
    "from sklearn.feature_extraction.text import TfidfVectorizer\n",
    "from sklearn.metrics.pairwise import linear_kernel\n",
    "\n",
    "import nltk\n",
    "import pandas as pd\n",
    "import numpy as np\n",
    "import numpy.linalg as LA\n",
    "import textwrap"
   ]
  },
  {
   "attachments": {},
   "cell_type": "markdown",
   "metadata": {},
   "source": [
    "#### Wrapper object initialised for displaying text in a readable format"
   ]
  },
  {
   "cell_type": "code",
   "execution_count": 2,
   "metadata": {},
   "outputs": [],
   "source": [
    "wrapper = textwrap.TextWrapper(width=80)"
   ]
  },
  {
   "attachments": {},
   "cell_type": "markdown",
   "metadata": {},
   "source": [
    "#### Initialised tfidf vectorizer object with removal of stopwords"
   ]
  },
  {
   "cell_type": "code",
   "execution_count": 3,
   "metadata": {},
   "outputs": [],
   "source": [
    "tfidf = TfidfVectorizer(stop_words=stopwords.words('english'))"
   ]
  },
  {
   "cell_type": "code",
   "execution_count": 4,
   "metadata": {},
   "outputs": [
    {
     "data": {
      "text/html": [
       "<div>\n",
       "<style scoped>\n",
       "    .dataframe tbody tr th:only-of-type {\n",
       "        vertical-align: middle;\n",
       "    }\n",
       "\n",
       "    .dataframe tbody tr th {\n",
       "        vertical-align: top;\n",
       "    }\n",
       "\n",
       "    .dataframe thead th {\n",
       "        text-align: right;\n",
       "    }\n",
       "</style>\n",
       "<table border=\"1\" class=\"dataframe\">\n",
       "  <thead>\n",
       "    <tr style=\"text-align: right;\">\n",
       "      <th></th>\n",
       "      <th>text</th>\n",
       "      <th>labels</th>\n",
       "    </tr>\n",
       "  </thead>\n",
       "  <tbody>\n",
       "    <tr>\n",
       "      <th>0</th>\n",
       "      <td>Ad sales boost Time Warner profit\\n\\nQuarterly...</td>\n",
       "      <td>business</td>\n",
       "    </tr>\n",
       "    <tr>\n",
       "      <th>1</th>\n",
       "      <td>Dollar gains on Greenspan speech\\n\\nThe dollar...</td>\n",
       "      <td>business</td>\n",
       "    </tr>\n",
       "    <tr>\n",
       "      <th>2</th>\n",
       "      <td>Yukos unit buyer faces loan claim\\n\\nThe owner...</td>\n",
       "      <td>business</td>\n",
       "    </tr>\n",
       "    <tr>\n",
       "      <th>3</th>\n",
       "      <td>High fuel prices hit BA's profits\\n\\nBritish A...</td>\n",
       "      <td>business</td>\n",
       "    </tr>\n",
       "    <tr>\n",
       "      <th>4</th>\n",
       "      <td>Pernod takeover talk lifts Domecq\\n\\nShares in...</td>\n",
       "      <td>business</td>\n",
       "    </tr>\n",
       "    <tr>\n",
       "      <th>...</th>\n",
       "      <td>...</td>\n",
       "      <td>...</td>\n",
       "    </tr>\n",
       "    <tr>\n",
       "      <th>2220</th>\n",
       "      <td>BT program to beat dialler scams\\n\\nBT is intr...</td>\n",
       "      <td>tech</td>\n",
       "    </tr>\n",
       "    <tr>\n",
       "      <th>2221</th>\n",
       "      <td>Spam e-mails tempt net shoppers\\n\\nComputer us...</td>\n",
       "      <td>tech</td>\n",
       "    </tr>\n",
       "    <tr>\n",
       "      <th>2222</th>\n",
       "      <td>Be careful how you code\\n\\nA new European dire...</td>\n",
       "      <td>tech</td>\n",
       "    </tr>\n",
       "    <tr>\n",
       "      <th>2223</th>\n",
       "      <td>US cyber security chief resigns\\n\\nThe man mak...</td>\n",
       "      <td>tech</td>\n",
       "    </tr>\n",
       "    <tr>\n",
       "      <th>2224</th>\n",
       "      <td>Losing yourself in online gaming\\n\\nOnline rol...</td>\n",
       "      <td>tech</td>\n",
       "    </tr>\n",
       "  </tbody>\n",
       "</table>\n",
       "<p>2225 rows × 2 columns</p>\n",
       "</div>"
      ],
      "text/plain": [
       "                                                   text    labels\n",
       "0     Ad sales boost Time Warner profit\\n\\nQuarterly...  business\n",
       "1     Dollar gains on Greenspan speech\\n\\nThe dollar...  business\n",
       "2     Yukos unit buyer faces loan claim\\n\\nThe owner...  business\n",
       "3     High fuel prices hit BA's profits\\n\\nBritish A...  business\n",
       "4     Pernod takeover talk lifts Domecq\\n\\nShares in...  business\n",
       "...                                                 ...       ...\n",
       "2220  BT program to beat dialler scams\\n\\nBT is intr...      tech\n",
       "2221  Spam e-mails tempt net shoppers\\n\\nComputer us...      tech\n",
       "2222  Be careful how you code\\n\\nA new European dire...      tech\n",
       "2223  US cyber security chief resigns\\n\\nThe man mak...      tech\n",
       "2224  Losing yourself in online gaming\\n\\nOnline rol...      tech\n",
       "\n",
       "[2225 rows x 2 columns]"
      ]
     },
     "execution_count": 4,
     "metadata": {},
     "output_type": "execute_result"
    }
   ],
   "source": [
    "BBC_article = pd.read_csv('bbc_text_cls.csv')\n",
    "BBC_article"
   ]
  },
  {
   "attachments": {},
   "cell_type": "markdown",
   "metadata": {},
   "source": [
    "#### Displaying sample text on which we are working"
   ]
  },
  {
   "cell_type": "code",
   "execution_count": 5,
   "metadata": {},
   "outputs": [
    {
     "name": "stdout",
     "output_type": "stream",
     "text": [
      "Ad sales boost Time Warner profit  Quarterly profits at US media giant\n",
      "TimeWarner jumped 76% to $1.13bn (£600m) for the three months to December, from\n",
      "$639m year-earlier.  The firm, which is now one of the biggest investors in\n",
      "Google, benefited from sales of high-speed internet connections and higher\n",
      "advert sales. TimeWarner said fourth quarter sales rose 2% to $11.1bn from\n",
      "$10.9bn. Its profits were buoyed by one-off gains which offset a profit dip at\n",
      "Warner Bros, and less users for AOL.  Time Warner said on Friday that it now\n",
      "owns 8% of search-engine Google. But its own internet business, AOL, had has\n",
      "mixed fortunes. It lost 464,000 subscribers in the fourth quarter profits were\n",
      "lower than in the preceding three quarters. However, the company said AOL's\n",
      "underlying profit before exceptional items rose 8% on the back of stronger\n",
      "internet advertising revenues. It hopes to increase subscribers by offering the\n",
      "online service free to TimeWarner internet customers and will try to sign up\n",
      "AOL's existing customers for high-speed broadband. TimeWarner also has to\n",
      "restate 2000 and 2003 results following a probe by the US Securities Exchange\n",
      "Commission (SEC), which is close to concluding.  Time Warner's fourth quarter\n",
      "profits were slightly better than analysts' expectations. But its film division\n",
      "saw profits slump 27% to $284m, helped by box-office flops Alexander and\n",
      "Catwoman, a sharp contrast to year-earlier, when the third and final film in the\n",
      "Lord of the Rings trilogy boosted results. For the full-year, TimeWarner posted\n",
      "a profit of $3.36bn, up 27% from its 2003 performance, while revenues grew 6.4%\n",
      "to $42.09bn. \"Our financial performance was strong, meeting or exceeding all of\n",
      "our full-year objectives and greatly enhancing our flexibility,\" chairman and\n",
      "chief executive Richard Parsons said. For 2005, TimeWarner is projecting\n",
      "operating earnings growth of around 5%, and also expects higher revenue and\n",
      "wider profit margins.  TimeWarner is to restate its accounts as part of efforts\n",
      "to resolve an inquiry into AOL by US market regulators. It has already offered\n",
      "to pay $300m to settle charges, in a deal that is under review by the SEC. The\n",
      "company said it was unable to estimate the amount it needed to set aside for\n",
      "legal reserves, which it previously set at $500m. It intends to adjust the way\n",
      "it accounts for a deal with German music publisher Bertelsmann's purchase of a\n",
      "stake in AOL Europe, which it had reported as advertising revenue. It will now\n",
      "book the sale of its stake in AOL Europe as a loss on the value of that stake.\n"
     ]
    }
   ],
   "source": [
    "sample_article = BBC_article['text'][0]\n",
    "print(\"\\n\".join(wrapper.wrap(sample_article)))"
   ]
  },
  {
   "attachments": {},
   "cell_type": "markdown",
   "metadata": {},
   "source": [
    "#### Tokenising the document into collection of sentences"
   ]
  },
  {
   "cell_type": "code",
   "execution_count": 6,
   "metadata": {},
   "outputs": [],
   "source": [
    "sent_token = nltk.sent_tokenize(sample_article)"
   ]
  },
  {
   "attachments": {},
   "cell_type": "markdown",
   "metadata": {},
   "source": [
    "#### Here we are doing sentence tokenisation"
   ]
  },
  {
   "attachments": {},
   "cell_type": "markdown",
   "metadata": {},
   "source": [
    "* We are basically treating every sentence in the article as a document\n",
    "* then we are applying tfidf vectoriser on it and then using text rank we will score them\n",
    "* after scoring them we will choose the top 5 scoring sentences, these will represent the summary"
   ]
  },
  {
   "cell_type": "code",
   "execution_count": 7,
   "metadata": {},
   "outputs": [],
   "source": [
    "sent_token_tfidf = tfidf.fit_transform(sent_token[1:])"
   ]
  },
  {
   "attachments": {},
   "cell_type": "markdown",
   "metadata": {},
   "source": [
    "#### linear_kernel calculates the dot prodect between the 2 tfidf sparse matrices"
   ]
  },
  {
   "cell_type": "code",
   "execution_count": 8,
   "metadata": {},
   "outputs": [],
   "source": [
    "G = linear_kernel(sent_token_tfidf,sent_token_tfidf)"
   ]
  },
  {
   "cell_type": "code",
   "execution_count": 9,
   "metadata": {},
   "outputs": [
    {
     "data": {
      "text/plain": [
       "19"
      ]
     },
     "execution_count": 9,
     "metadata": {},
     "output_type": "execute_result"
    }
   ],
   "source": [
    "len(G[0])"
   ]
  },
  {
   "cell_type": "code",
   "execution_count": 10,
   "metadata": {},
   "outputs": [
    {
     "data": {
      "text/plain": [
       "array([[1.]])"
      ]
     },
     "execution_count": 10,
     "metadata": {},
     "output_type": "execute_result"
    }
   ],
   "source": [
    "# sanity check\n",
    "linear_kernel(sent_token_tfidf[0],sent_token_tfidf[0])"
   ]
  },
  {
   "cell_type": "code",
   "execution_count": 11,
   "metadata": {},
   "outputs": [
    {
     "data": {
      "text/plain": [
       "numpy.ndarray"
      ]
     },
     "execution_count": 11,
     "metadata": {},
     "output_type": "execute_result"
    }
   ],
   "source": [
    "type(G)"
   ]
  },
  {
   "attachments": {},
   "cell_type": "markdown",
   "metadata": {},
   "source": [
    "#### Normalising the matrix so that it is compatible with the Perron-Frobenius conditions of convergence"
   ]
  },
  {
   "cell_type": "code",
   "execution_count": 12,
   "metadata": {},
   "outputs": [],
   "source": [
    "G = G/G.sum(axis=1).reshape((19,1))"
   ]
  },
  {
   "attachments": {},
   "cell_type": "markdown",
   "metadata": {},
   "source": [
    "#### Smoothing the G matrix"
   ]
  },
  {
   "cell_type": "code",
   "execution_count": 13,
   "metadata": {},
   "outputs": [],
   "source": [
    "damping_factor = 0.15"
   ]
  },
  {
   "cell_type": "code",
   "execution_count": 14,
   "metadata": {},
   "outputs": [],
   "source": [
    "A = damping_factor*1/len(G) + (1-damping_factor)*G"
   ]
  },
  {
   "cell_type": "code",
   "execution_count": 15,
   "metadata": {},
   "outputs": [
    {
     "data": {
      "text/plain": [
       "array([1., 1., 1., 1., 1., 1., 1., 1., 1., 1., 1., 1., 1., 1., 1., 1., 1.,\n",
       "       1., 1.])"
      ]
     },
     "execution_count": 15,
     "metadata": {},
     "output_type": "execute_result"
    }
   ],
   "source": [
    "A.sum(axis=1)"
   ]
  },
  {
   "attachments": {},
   "cell_type": "markdown",
   "metadata": {},
   "source": [
    "* In the text rank paper, it is stated that we can take any initial state and it will converge with the given G matrix"
   ]
  },
  {
   "cell_type": "code",
   "execution_count": 16,
   "metadata": {},
   "outputs": [],
   "source": [
    "initial_state = np.random.rand(1,len(A))\n",
    "initial_state = initial_state/initial_state.sum()"
   ]
  },
  {
   "cell_type": "code",
   "execution_count": 17,
   "metadata": {},
   "outputs": [
    {
     "data": {
      "text/plain": [
       "1.0"
      ]
     },
     "execution_count": 17,
     "metadata": {},
     "output_type": "execute_result"
    }
   ],
   "source": [
    "initial_state.sum()"
   ]
  },
  {
   "attachments": {},
   "cell_type": "markdown",
   "metadata": {},
   "source": [
    "### Method 1"
   ]
  },
  {
   "attachments": {},
   "cell_type": "markdown",
   "metadata": {},
   "source": [
    "#### Running the iterative process to find the initial_state of the converged point"
   ]
  },
  {
   "cell_type": "code",
   "execution_count": 18,
   "metadata": {},
   "outputs": [],
   "source": [
    "epsilon = 1e-8\n",
    "\n",
    "while(True):\n",
    "    \n",
    "    temp = initial_state\n",
    "    initial_state = np.matmul(initial_state,A)\n",
    "    \n",
    "    if abs(initial_state.sum(axis=1)-temp.sum(axis=1))[0]<epsilon:\n",
    "        break\n",
    "    "
   ]
  },
  {
   "cell_type": "code",
   "execution_count": 19,
   "metadata": {},
   "outputs": [
    {
     "data": {
      "text/plain": [
       "array([[0.07500099, 0.04715706, 0.05495944, 0.03733855, 0.05552923,\n",
       "        0.03663554, 0.05861759, 0.06387914, 0.02802733, 0.03783344,\n",
       "        0.04950762, 0.04594194, 0.07650792, 0.05113149, 0.02565022,\n",
       "        0.08572842, 0.0339147 , 0.07802205, 0.05861732]])"
      ]
     },
     "execution_count": 19,
     "metadata": {},
     "output_type": "execute_result"
    }
   ],
   "source": [
    "initial_state"
   ]
  },
  {
   "attachments": {},
   "cell_type": "markdown",
   "metadata": {},
   "source": [
    "#### Getting the index of sentences scoring the most points"
   ]
  },
  {
   "cell_type": "code",
   "execution_count": 20,
   "metadata": {},
   "outputs": [
    {
     "data": {
      "text/plain": [
       "array([[15, 17, 12,  0,  7,  6, 18,  4,  2, 13, 10,  1, 11,  9,  3,  5,\n",
       "        16,  8, 14]])"
      ]
     },
     "execution_count": 20,
     "metadata": {},
     "output_type": "execute_result"
    }
   ],
   "source": [
    "initial_state*=-1\n",
    "initial_state.argsort()"
   ]
  },
  {
   "cell_type": "code",
   "execution_count": 21,
   "metadata": {},
   "outputs": [
    {
     "data": {
      "text/plain": [
       "array([15, 17, 12,  0,  7])"
      ]
     },
     "execution_count": 21,
     "metadata": {},
     "output_type": "execute_result"
    }
   ],
   "source": [
    "summary_index = initial_state.argsort()[0][:5]\n",
    "summary_index"
   ]
  },
  {
   "attachments": {},
   "cell_type": "markdown",
   "metadata": {},
   "source": [
    "#### Summary created using Iterative process"
   ]
  },
  {
   "cell_type": "code",
   "execution_count": 22,
   "metadata": {},
   "outputs": [
    {
     "name": "stdout",
     "output_type": "stream",
     "text": [
      "TimeWarner is to restate its accounts as part of efforts to resolve an inquiry\n",
      "into AOL by US market regulators. The company said it was unable to estimate the\n",
      "amount it needed to set aside for legal reserves, which it previously set at\n",
      "$500m. For the full-year, TimeWarner posted a profit of $3.36bn, up 27% from its\n",
      "2003 performance, while revenues grew 6.4% to $42.09bn. Ad sales boost Time\n",
      "Warner profit  Quarterly profits at US media giant TimeWarner jumped 76% to\n",
      "$1.13bn (£600m) for the three months to December, from $639m year-earlier.\n",
      "However, the company said AOL's underlying profit before exceptional items rose\n",
      "8% on the back of stronger internet advertising revenues.\n"
     ]
    }
   ],
   "source": [
    "summary = \" \".join([sent_token[index] for index in summary_index])\n",
    "print(\"\\n\".join(wrapper.wrap(summary)))"
   ]
  },
  {
   "attachments": {},
   "cell_type": "markdown",
   "metadata": {},
   "source": [
    "### Method 2\n",
    "#### Direct method : find eigvector associated with eigen value = 1"
   ]
  },
  {
   "cell_type": "code",
   "execution_count": 36,
   "metadata": {},
   "outputs": [],
   "source": [
    "eig_values, eig_vectors = LA.eig(G.T)"
   ]
  },
  {
   "cell_type": "code",
   "execution_count": 37,
   "metadata": {},
   "outputs": [
    {
     "data": {
      "text/plain": [
       "array([1.        , 0.90460542, 0.35897585, 0.85245415, 0.82768147,\n",
       "       0.83624879, 0.7696432 , 0.74822436, 0.71818502, 0.42596997,\n",
       "       0.44619282, 0.4552007 , 0.66972404, 0.64876074, 0.60725952,\n",
       "       0.52066281, 0.5471149 , 0.53985297, 0.52743861])"
      ]
     },
     "execution_count": 37,
     "metadata": {},
     "output_type": "execute_result"
    }
   ],
   "source": [
    "eig_values"
   ]
  },
  {
   "cell_type": "code",
   "execution_count": 38,
   "metadata": {},
   "outputs": [
    {
     "data": {
      "text/plain": [
       "array([0.23427978, 0.28349642, 0.2522921 , 0.22792334, 0.22210008,\n",
       "       0.21928636, 0.28570521, 0.23366379, 0.22516964, 0.25618999,\n",
       "       0.18378281, 0.25022524, 0.19635511, 0.21631933, 0.23598968,\n",
       "       0.16634031, 0.17691479, 0.24167348, 0.21062578])"
      ]
     },
     "execution_count": 38,
     "metadata": {},
     "output_type": "execute_result"
    }
   ],
   "source": [
    "eig_vectors[:,0]"
   ]
  },
  {
   "attachments": {},
   "cell_type": "markdown",
   "metadata": {},
   "source": [
    "#### Normalising the eigenvectors to satisfy the properties of probability distribution"
   ]
  },
  {
   "cell_type": "code",
   "execution_count": 39,
   "metadata": {},
   "outputs": [
    {
     "data": {
      "text/plain": [
       "array([0.05425236, 0.0656495 , 0.05842349, 0.0527804 , 0.0514319 ,\n",
       "       0.05078032, 0.06616099, 0.05410972, 0.05214272, 0.05932613,\n",
       "       0.04255874, 0.05794487, 0.04547012, 0.05009324, 0.05464832,\n",
       "       0.03851956, 0.0409683 , 0.05596453, 0.04877479])"
      ]
     },
     "execution_count": 39,
     "metadata": {},
     "output_type": "execute_result"
    }
   ],
   "source": [
    "scores = eig_vectors[:,0]\n",
    "scores = scores/scores.sum()\n",
    "scores"
   ]
  },
  {
   "cell_type": "code",
   "execution_count": 40,
   "metadata": {},
   "outputs": [
    {
     "data": {
      "text/plain": [
       "1.0"
      ]
     },
     "execution_count": 40,
     "metadata": {},
     "output_type": "execute_result"
    }
   ],
   "source": [
    "scores.sum()"
   ]
  },
  {
   "cell_type": "code",
   "execution_count": 41,
   "metadata": {},
   "outputs": [
    {
     "data": {
      "text/plain": [
       "array([ 6,  1,  9,  2, 11])"
      ]
     },
     "execution_count": 41,
     "metadata": {},
     "output_type": "execute_result"
    }
   ],
   "source": [
    "scores = scores*-1\n",
    "summary_index = scores.argsort()[:5]\n",
    "summary_index"
   ]
  },
  {
   "cell_type": "code",
   "execution_count": 42,
   "metadata": {},
   "outputs": [
    {
     "name": "stdout",
     "output_type": "stream",
     "text": [
      "It lost 464,000 subscribers in the fourth quarter profits were lower than in the\n",
      "preceding three quarters. The firm, which is now one of the biggest investors in\n",
      "Google, benefited from sales of high-speed internet connections and higher\n",
      "advert sales. TimeWarner also has to restate 2000 and 2003 results following a\n",
      "probe by the US Securities Exchange Commission (SEC), which is close to\n",
      "concluding. TimeWarner said fourth quarter sales rose 2% to $11.1bn from\n",
      "$10.9bn. But its film division saw profits slump 27% to $284m, helped by box-\n",
      "office flops Alexander and Catwoman, a sharp contrast to year-earlier, when the\n",
      "third and final film in the Lord of the Rings trilogy boosted results.\n"
     ]
    }
   ],
   "source": [
    "summary = \" \".join([sent_token[index] for index in summary_index])\n",
    "print(\"\\n\".join(wrapper.wrap(summary)))"
   ]
  },
  {
   "attachments": {},
   "cell_type": "markdown",
   "metadata": {},
   "source": [
    "### Method 1 function (Iterative): "
   ]
  },
  {
   "cell_type": "code",
   "execution_count": 43,
   "metadata": {},
   "outputs": [],
   "source": [
    "def summarise_iterative(text : str, damping_factor : float):\n",
    "    \n",
    "    tfidf = TfidfVectorizer(stop_words=stopwords.words('english'))\n",
    "    \n",
    "    sent_token = nltk.sent_tokenize(text)\n",
    "    sent_token_tfidf = tfidf.fit_transform(sent_token[1:])\n",
    "    \n",
    "    G = linear_kernel(sent_token_tfidf,sent_token_tfidf)\n",
    "    G = G/G.sum(axis=1).reshape((19,1))\n",
    "    \n",
    "    A = damping_factor*1/len(G) + (1-damping_factor)*G\n",
    "    \n",
    "    initial_state = np.random.rand(1,len(A))\n",
    "    initial_state = initial_state/initial_state.sum()\n",
    "    \n",
    "    while(True):\n",
    "    \n",
    "        temp = initial_state\n",
    "        initial_state = np.matmul(initial_state,A)\n",
    "        \n",
    "        if abs(initial_state.sum(axis=1)-temp.sum(axis=1))[0]<0.00000001:\n",
    "            break\n",
    "        \n",
    "    initial_state = initial_state*-1\n",
    "    summary_index = initial_state.argsort()[0][:5]\n",
    "    summary = \" \".join([sent_token[index] for index in summary_index])\n",
    "    \n",
    "    return summary\n"
   ]
  },
  {
   "cell_type": "code",
   "execution_count": 44,
   "metadata": {},
   "outputs": [
    {
     "name": "stdout",
     "output_type": "stream",
     "text": [
      "Time Warner said on Friday that it now owns 8% of search-engine Google. It\n",
      "intends to adjust the way it accounts for a deal with German music publisher\n",
      "Bertelsmann's purchase of a stake in AOL Europe, which it had reported as\n",
      "advertising revenue. Time Warner's fourth quarter profits were slightly better\n",
      "than analysts' expectations. The company said it was unable to estimate the\n",
      "amount it needed to set aside for legal reserves, which it previously set at\n",
      "$500m. However, the company said AOL's underlying profit before exceptional\n",
      "items rose 8% on the back of stronger internet advertising revenues.\n"
     ]
    }
   ],
   "source": [
    "print(\"\\n\".join(wrapper.wrap(summarise_iterative(text=sample_article,damping_factor=0.15))))"
   ]
  },
  {
   "attachments": {},
   "cell_type": "markdown",
   "metadata": {},
   "source": [
    "### Method 2 function (Eigen-Vector):"
   ]
  },
  {
   "cell_type": "code",
   "execution_count": 45,
   "metadata": {},
   "outputs": [],
   "source": [
    "def summarise_direct(text : str, damping_factor : float):\n",
    "    \n",
    "    tfidf = TfidfVectorizer(stop_words=stopwords.words('english'))\n",
    "    \n",
    "    sent_token = nltk.sent_tokenize(text)\n",
    "    sent_token_tfidf = tfidf.fit_transform(sent_token[1:])\n",
    "    \n",
    "    G = linear_kernel(sent_token_tfidf,sent_token_tfidf)\n",
    "    G = G/G.sum(axis=1).reshape((19,1))\n",
    "    \n",
    "    A = damping_factor*1/len(G) + (1-damping_factor)*G\n",
    "    \n",
    "    eig_values, eig_vectors = LA.eig(A.T)\n",
    "    scores = eig_vectors[:,list(np.floor(eig_values)).index(1.0)]/eig_vectors[:,list(np.floor(eig_values)).index(1.0)].sum()\n",
    "    \n",
    "    scores = scores*-1\n",
    "    summary_index = scores.argsort()[:5]\n",
    "    summary = \" \".join([sent_token[index] for index in summary_index])\n",
    "    \n",
    "    return summary"
   ]
  },
  {
   "cell_type": "code",
   "execution_count": 46,
   "metadata": {},
   "outputs": [
    {
     "name": "stdout",
     "output_type": "stream",
     "text": [
      "It lost 464,000 subscribers in the fourth quarter profits were lower than in the\n",
      "preceding three quarters. The firm, which is now one of the biggest investors in\n",
      "Google, benefited from sales of high-speed internet connections and higher\n",
      "advert sales. But its film division saw profits slump 27% to $284m, helped by\n",
      "box-office flops Alexander and Catwoman, a sharp contrast to year-earlier, when\n",
      "the third and final film in the Lord of the Rings trilogy boosted results.\n",
      "TimeWarner also has to restate 2000 and 2003 results following a probe by the US\n",
      "Securities Exchange Commission (SEC), which is close to concluding. TimeWarner\n",
      "said fourth quarter sales rose 2% to $11.1bn from $10.9bn.\n"
     ]
    }
   ],
   "source": [
    "print(\"\\n\".join(wrapper.wrap(summarise_direct(text=sample_article,damping_factor=0.15))))"
   ]
  }
 ],
 "metadata": {
  "kernelspec": {
   "display_name": "base",
   "language": "python",
   "name": "python3"
  },
  "language_info": {
   "codemirror_mode": {
    "name": "ipython",
    "version": 3
   },
   "file_extension": ".py",
   "mimetype": "text/x-python",
   "name": "python",
   "nbconvert_exporter": "python",
   "pygments_lexer": "ipython3",
   "version": "3.9.12"
  },
  "orig_nbformat": 4
 },
 "nbformat": 4,
 "nbformat_minor": 2
}
